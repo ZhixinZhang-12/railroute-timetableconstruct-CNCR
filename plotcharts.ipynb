{
 "cells": [
  {
   "cell_type": "code",
   "execution_count": null,
   "metadata": {},
   "outputs": [],
   "source": [
    "from pyecharts.charts import Line, Timeline, Bar\n",
    "import random\n",
    "import datetime\n",
    "import time\n",
    "import pandas\n",
    "import numpy\n",
    "from pyecharts import options as opt\n",
    "from pyecharts.faker import Faker\n",
    "from pyecharts.globals import ThemeType\n",
    "from pyecharts.globals import CurrentConfig, NotebookType\n",
    "import matplotlib.pyplot as plt\n",
    "CurrentConfig.NOTEBOOK_TYPE = NotebookType.JUPYTER_NOTEBOOK\n",
    "\n",
    "x_data = [\n",
    "    [random.randint(100, 500), random.randint(10, 50)]for x in range(0, 25)\n",
    "]\n",
    "pd = pandas.DataFrame(data=x_data, columns=[\"x1\", \"x2\"], index=pandas.date_range(start='2023-01-01', end='2023-01-02', freq='H'))\n",
    "\n",
    "# # 参数x_compat=True实现：\n",
    "# ts = pandas.Series(numpy.random.randn(\n",
    "#     1000), index=pandas.date_range('1/1/2000', periods=1000))\n",
    "# df = pandas.DataFrame(numpy.random.randn(1000, 4),\n",
    "#                       index=ts.index, columns=list('ABCD'))\n",
    "# df = df.cumsum()\n",
    "# #     df.A.plot()\n",
    "# pd.A.plot(x_compat=True)\n",
    "# plt.show()\n",
    "#pd=pd.cumsum()\n",
    "pd.plot(x_compat=True)\n",
    "plt.figure(figsize=(40,10))\n",
    "\n",
    "plt.show()\n"
   ]
  }
 ],
 "metadata": {
  "kernelspec": {
   "display_name": "Python 3",
   "language": "python",
   "name": "python3"
  },
  "language_info": {
   "codemirror_mode": {
    "name": "ipython",
    "version": 3
   },
   "file_extension": ".py",
   "mimetype": "text/x-python",
   "name": "python",
   "nbconvert_exporter": "python",
   "pygments_lexer": "ipython3",
   "version": "3.11.2"
  }
 },
 "nbformat": 4,
 "nbformat_minor": 2
}
